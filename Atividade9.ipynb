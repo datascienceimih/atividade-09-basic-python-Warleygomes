{
 "cells": [
  {
   "cell_type": "markdown",
   "metadata": {},
   "source": [
    "\n",
    "# Projeto Integrador Atividade 09\n",
    "\n",
    "### Warley Gomes De Andrade\n",
    "\n",
    "# Curso Ciências de Dados\n",
    "\n",
    "\n",
    "1) Crie uma lista com 100 números gerados aleatoriamente. Use o módulo numpy para criar os dados que você precisa. Atribua a lista a um objeto nomeado.\n"
   ]
  },
  {
   "cell_type": "code",
   "execution_count": 1,
   "metadata": {},
   "outputs": [],
   "source": [
    "import pandas as pd\n",
    "import numpy as np\n",
    "\n",
    "num = np.random.normal(size=100)\n"
   ]
  },
  {
   "cell_type": "markdown",
   "metadata": {},
   "source": [
    "2) Apresente o maior número, o menor número, a média do vetor, o desvio padrão e a variância. Todas essas funções podem ser encontradas no módulo numpy."
   ]
  },
  {
   "cell_type": "code",
   "execution_count": 2,
   "metadata": {},
   "outputs": [
    {
     "data": {
      "text/plain": [
       "2.2434379033018716"
      ]
     },
     "execution_count": 2,
     "metadata": {},
     "output_type": "execute_result"
    }
   ],
   "source": [
    "num.max()"
   ]
  },
  {
   "cell_type": "code",
   "execution_count": 3,
   "metadata": {},
   "outputs": [
    {
     "data": {
      "text/plain": [
       "-2.548387910698722"
      ]
     },
     "execution_count": 3,
     "metadata": {},
     "output_type": "execute_result"
    }
   ],
   "source": [
    "num.min()"
   ]
  },
  {
   "cell_type": "code",
   "execution_count": 4,
   "metadata": {},
   "outputs": [
    {
     "data": {
      "text/plain": [
       "0.07456920462314198"
      ]
     },
     "execution_count": 4,
     "metadata": {},
     "output_type": "execute_result"
    }
   ],
   "source": [
    "num.mean()"
   ]
  },
  {
   "cell_type": "code",
   "execution_count": 5,
   "metadata": {},
   "outputs": [
    {
     "data": {
      "text/plain": [
       "0.9745738025757191"
      ]
     },
     "execution_count": 5,
     "metadata": {},
     "output_type": "execute_result"
    }
   ],
   "source": [
    "num.std()"
   ]
  },
  {
   "cell_type": "code",
   "execution_count": 6,
   "metadata": {},
   "outputs": [
    {
     "data": {
      "text/plain": [
       "0.9497940966668967"
      ]
     },
     "execution_count": 6,
     "metadata": {},
     "output_type": "execute_result"
    }
   ],
   "source": [
    "num.var()"
   ]
  },
  {
   "cell_type": "markdown",
   "metadata": {},
   "source": [
    "3) Apresente os mesmos resultados só que agora, construa uma frase que será apresentada no console. Ex.: A média do vetor numérico é 0.12.\n"
   ]
  },
  {
   "cell_type": "code",
   "execution_count": 9,
   "metadata": {},
   "outputs": [
    {
     "name": "stdout",
     "output_type": "stream",
     "text": [
      "A média do vetor é 0.07\n"
     ]
    }
   ],
   "source": [
    "print(f'A média do vetor é {round(num.mean(), 2)}')"
   ]
  },
  {
   "cell_type": "code",
   "execution_count": 10,
   "metadata": {},
   "outputs": [
    {
     "name": "stdout",
     "output_type": "stream",
     "text": [
      "O valor máximo do vetor é 2.24\n"
     ]
    }
   ],
   "source": [
    "print(f'O valor máximo do vetor é {round(num.max(), 2)}')"
   ]
  },
  {
   "cell_type": "code",
   "execution_count": 11,
   "metadata": {},
   "outputs": [
    {
     "name": "stdout",
     "output_type": "stream",
     "text": [
      "O valor mínimo do vetor é -2.55\n"
     ]
    }
   ],
   "source": [
    "print(f'O valor mínimo do vetor é {round(num.min(), 2)}')"
   ]
  },
  {
   "cell_type": "code",
   "execution_count": 12,
   "metadata": {},
   "outputs": [
    {
     "name": "stdout",
     "output_type": "stream",
     "text": [
      "O desvio padrão do vetor é 0.07\n"
     ]
    }
   ],
   "source": [
    "print(f'O desvio padrão do vetor é {round(num.mean(), 2)}')"
   ]
  },
  {
   "cell_type": "code",
   "execution_count": 13,
   "metadata": {},
   "outputs": [
    {
     "name": "stdout",
     "output_type": "stream",
     "text": [
      "A variância do vetor é 0.95\n"
     ]
    }
   ],
   "source": [
    "print(f'A variância do vetor é {round(num.var(), 2)}')"
   ]
  },
  {
   "cell_type": "markdown",
   "metadata": {},
   "source": [
    "4) Construa um for loop para iterar entre todos os números do vetor. Exiba o número no console se ele for maior do que 0."
   ]
  },
  {
   "cell_type": "code",
   "execution_count": 14,
   "metadata": {},
   "outputs": [
    {
     "name": "stdout",
     "output_type": "stream",
     "text": [
      "[0.27028867 0.5959548  1.3358948  0.19470121 1.36603757 0.55756728\n",
      " 0.13136654 0.80555779 0.09644354 0.88091487 2.2434379  1.86119601\n",
      " 0.60069474 1.43794459 0.678877   0.27380199 0.90160191 1.20108577\n",
      " 1.43431482 0.70120453 0.28704062 0.69135416 0.81800115 0.06508564\n",
      " 0.08352175 0.96977454 0.42400976 0.08909417 0.54078249 0.38785366\n",
      " 0.38949398 1.15626523 1.1443638  0.47975346 0.05722389 1.15298813\n",
      " 0.48097603 0.51261704 1.43288986 1.897979   1.0763211  1.21226127\n",
      " 0.75733141 0.14339512 0.8749675  1.55640696 0.58770097 1.60974502\n",
      " 1.73218552 0.1658707  0.69619118 0.97023669 0.63374319 0.25493554]\n"
     ]
    }
   ],
   "source": [
    "print(num[[i for i in num > 0]])"
   ]
  },
  {
   "cell_type": "markdown",
   "metadata": {},
   "source": [
    "5) Faça a mesma coisa usando um loop while."
   ]
  },
  {
   "cell_type": "code",
   "execution_count": 20,
   "metadata": {},
   "outputs": [
    {
     "name": "stdout",
     "output_type": "stream",
     "text": [
      "0.27028866786472466\n",
      "0.5959547963452443\n",
      "1.335894797147023\n",
      "0.19470121164577148\n",
      "1.366037567188442\n",
      "0.557567275101901\n",
      "0.1313665407490957\n",
      "0.8055577867160213\n",
      "0.096443539445639\n",
      "0.8809148699093795\n",
      "2.2434379033018716\n",
      "1.8611960087855526\n",
      "0.6006947443145735\n",
      "1.4379445937315947\n",
      "0.6788770025827403\n",
      "0.2738019915686295\n",
      "0.9016019057297727\n",
      "1.2010857668263724\n",
      "1.434314819130664\n",
      "0.7012045270601945\n",
      "0.28704061676903253\n",
      "0.6913541576393581\n",
      "0.818001154129354\n",
      "0.06508564420268358\n",
      "0.08352174555827413\n",
      "0.9697745402973852\n",
      "0.4240097587741329\n",
      "0.0890941721909504\n",
      "0.5407824865677249\n",
      "0.3878536606487549\n",
      "0.3894939792244633\n",
      "1.1562652338050075\n",
      "1.1443638044268456\n",
      "0.4797534610054751\n",
      "0.057223893833776955\n",
      "1.1529881297107432\n",
      "0.4809760339469085\n",
      "0.5126170417710532\n",
      "1.4328898645045087\n",
      "1.8979789982872446\n",
      "1.0763210955174627\n",
      "1.2122612680029907\n",
      "0.7573314142772817\n",
      "0.14339511690085188\n",
      "0.8749674962708288\n",
      "1.556406960765306\n",
      "0.5877009743687779\n",
      "1.6097450187775677\n",
      "1.7321855196487832\n",
      "0.16587069655939737\n",
      "0.6961911766927539\n",
      "0.9702366919413178\n",
      "0.6337431888352776\n",
      "0.2549355422152922\n"
     ]
    }
   ],
   "source": [
    "j = 0\n",
    "n = len(num)\n",
    "while j < n:\n",
    "    if num[j] > 0:\n",
    "        print(num[j])\n",
    "    j = j + 1"
   ]
  },
  {
   "cell_type": "markdown",
   "metadata": {},
   "source": [
    "6) Usando um comando, crie uma lista com números de 0 a 80. Usando um for loop e um loop while, se o número estiver entre 0 e 20, imprima pequeno. Se estiver entre 21 e 40, imprima médio. Se estiver entre 41 e 60, imprima grande. Se estiver entre 61 e 80, imprima \"Que isso, meu?\". Se o número for igual à sua idade, imprima na tela \"Te peguei!\".\n"
   ]
  },
  {
   "cell_type": "code",
   "execution_count": 25,
   "metadata": {},
   "outputs": [
    {
     "name": "stdout",
     "output_type": "stream",
     "text": [
      "pequeno\n",
      "pequeno\n",
      "pequeno\n",
      "pequeno\n",
      "pequeno\n",
      "pequeno\n",
      "pequeno\n",
      "pequeno\n",
      "pequeno\n",
      "pequeno\n",
      "pequeno\n",
      "pequeno\n",
      "pequeno\n",
      "pequeno\n",
      "pequeno\n",
      "pequeno\n",
      "pequeno\n",
      "pequeno\n",
      "pequeno\n",
      "pequeno\n",
      "pequeno\n",
      "médio\n",
      "médio\n",
      "Te peguei!\n",
      "médio\n",
      "médio\n",
      "médio\n",
      "médio\n",
      "médio\n",
      "médio\n",
      "médio\n",
      "médio\n",
      "médio\n",
      "médio\n",
      "médio\n",
      "médio\n",
      "médio\n",
      "médio\n",
      "médio\n",
      "médio\n",
      "médio\n",
      "Grande\n",
      "Grande\n",
      "Grande\n",
      "Grande\n",
      "Grande\n",
      "Grande\n",
      "Grande\n",
      "Grande\n",
      "Grande\n",
      "Grande\n",
      "Grande\n",
      "Grande\n",
      "Grande\n",
      "Grande\n",
      "Grande\n",
      "Grande\n",
      "Grande\n",
      "Grande\n",
      "Grande\n",
      "Grande\n",
      "Que isso, meu?\n",
      "Que isso, meu?\n",
      "Que isso, meu?\n",
      "Que isso, meu?\n",
      "Que isso, meu?\n",
      "Que isso, meu?\n",
      "Que isso, meu?\n",
      "Que isso, meu?\n",
      "Que isso, meu?\n",
      "Que isso, meu?\n",
      "Que isso, meu?\n",
      "Que isso, meu?\n",
      "Que isso, meu?\n",
      "Que isso, meu?\n",
      "Que isso, meu?\n",
      "Que isso, meu?\n",
      "Que isso, meu?\n",
      "Que isso, meu?\n",
      "Que isso, meu?\n",
      "Que isso, meu?\n"
     ]
    }
   ],
   "source": [
    "# Com for loop\n",
    "\n",
    "lista = list(range(81))\n",
    "idade = 23\n",
    "\n",
    "for i in lista:\n",
    "    if i == idade:\n",
    "        print('Te peguei!')\n",
    "    elif i <= 20:\n",
    "        print('pequeno')\n",
    "    elif i > 20 and i <= 40:\n",
    "        print('médio')\n",
    "    elif i > 40 and i <= 60:\n",
    "        print('Grande')\n",
    "    else:\n",
    "        print('Que isso, meu?')"
   ]
  },
  {
   "cell_type": "code",
   "execution_count": 26,
   "metadata": {},
   "outputs": [
    {
     "name": "stdout",
     "output_type": "stream",
     "text": [
      "pequeno\n",
      "pequeno\n",
      "pequeno\n",
      "pequeno\n",
      "pequeno\n",
      "pequeno\n",
      "pequeno\n",
      "pequeno\n",
      "pequeno\n",
      "pequeno\n",
      "pequeno\n",
      "pequeno\n",
      "pequeno\n",
      "pequeno\n",
      "pequeno\n",
      "pequeno\n",
      "pequeno\n",
      "pequeno\n",
      "pequeno\n",
      "pequeno\n",
      "pequeno\n",
      "médio\n",
      "médio\n",
      "Te peguei!\n",
      "médio\n",
      "médio\n",
      "médio\n",
      "médio\n",
      "médio\n",
      "médio\n",
      "médio\n",
      "médio\n",
      "médio\n",
      "médio\n",
      "médio\n",
      "médio\n",
      "médio\n",
      "médio\n",
      "médio\n",
      "médio\n",
      "médio\n",
      "Grande\n",
      "Grande\n",
      "Grande\n",
      "Grande\n",
      "Grande\n",
      "Grande\n",
      "Grande\n",
      "Grande\n",
      "Grande\n",
      "Grande\n",
      "Grande\n",
      "Grande\n",
      "Grande\n",
      "Grande\n",
      "Grande\n",
      "Grande\n",
      "Grande\n",
      "Grande\n",
      "Grande\n",
      "Grande\n",
      "Que isso, meu?\n",
      "Que isso, meu?\n",
      "Que isso, meu?\n",
      "Que isso, meu?\n",
      "Que isso, meu?\n",
      "Que isso, meu?\n",
      "Que isso, meu?\n",
      "Que isso, meu?\n",
      "Que isso, meu?\n",
      "Que isso, meu?\n",
      "Que isso, meu?\n",
      "Que isso, meu?\n",
      "Que isso, meu?\n",
      "Que isso, meu?\n",
      "Que isso, meu?\n",
      "Que isso, meu?\n",
      "Que isso, meu?\n",
      "Que isso, meu?\n",
      "Que isso, meu?\n",
      "Que isso, meu?\n"
     ]
    }
   ],
   "source": [
    "# Com while loop\n",
    "\n",
    "i = 0\n",
    "m = len(lista)\n",
    "\n",
    "while i < m:\n",
    "    if i == idade:\n",
    "        print('Te peguei!')\n",
    "    elif i <= 20:\n",
    "        print('pequeno')\n",
    "    elif i > 20 and i <= 40:\n",
    "        print('médio')\n",
    "    elif i > 40 and i <= 60:\n",
    "        print('Grande')\n",
    "    else:\n",
    "        print('Que isso, meu?')\n",
    "    i = i + 1"
   ]
  },
  {
   "cell_type": "markdown",
   "metadata": {},
   "source": [
    "7) Crie um dicionário. As chaves serão os nomes de 5 pessoas e os valores, suas idades. Usando um for loop, imprima os pares chave, valor.\n"
   ]
  },
  {
   "cell_type": "code",
   "execution_count": 28,
   "metadata": {},
   "outputs": [
    {
     "name": "stdout",
     "output_type": "stream",
     "text": [
      "Nome: Victor | Idade: 18\n",
      "Nome: Lucas | Idade: 23\n",
      "Nome: Eduarda | Idade: 20\n",
      "Nome: Camilla | Idade: 26\n",
      "Nome: Marcelo | Idade: 10\n"
     ]
    }
   ],
   "source": [
    "dict = {'Victor': 18,\n",
    "      'Lucas': 23,\n",
    "      'Eduarda': 20,\n",
    "      'Camilla': 26,\n",
    "      'Marcelo': 10}\n",
    "for x, y in dict.items():\n",
    "    print(f'Nome: {x} | Idade: {y}')"
   ]
  },
  {
   "cell_type": "markdown",
   "metadata": {},
   "source": [
    "8) Usando um for loop, mostre quem é a pessoa mais velha e a pessoa mais nova no dicionário. Dica: usaremos um for loop iterando sobre os pares de chaves, valores (os itens).\n"
   ]
  },
  {
   "cell_type": "code",
   "execution_count": 30,
   "metadata": {},
   "outputs": [
    {
     "name": "stdout",
     "output_type": "stream",
     "text": [
      "Camilla é a pessoa mais velha\n",
      "Marcelo é a pessoa mais nova\n"
     ]
    }
   ],
   "source": [
    "for x, y in dict.items():\n",
    "    if y == max(dict.values()):\n",
    "        print(f'{x} é a pessoa mais velha')\n",
    "    if y == min(dict.values()):\n",
    "        print(f'{x} é a pessoa mais nova')"
   ]
  }
 ],
 "metadata": {
  "kernelspec": {
   "display_name": "Python 3",
   "language": "python",
   "name": "python3"
  },
  "language_info": {
   "codemirror_mode": {
    "name": "ipython",
    "version": 3
   },
   "file_extension": ".py",
   "mimetype": "text/x-python",
   "name": "python",
   "nbconvert_exporter": "python",
   "pygments_lexer": "ipython3",
   "version": "3.6.5"
  }
 },
 "nbformat": 4,
 "nbformat_minor": 2
}
